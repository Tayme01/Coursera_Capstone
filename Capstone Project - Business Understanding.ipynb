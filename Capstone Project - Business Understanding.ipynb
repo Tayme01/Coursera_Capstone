{
 "cells": [
  {
   "cell_type": "markdown",
   "metadata": {},
   "source": [
    "# Problem and Background"
   ]
  },
  {
   "cell_type": "markdown",
   "metadata": {},
   "source": [
    "Problem: How can I find out the a borough in toronto or neighbhorhood in new york that has the most of a particular amenity (e.g cinemas, coffee shops etc)?\n",
    "\n",
    "Background: Imagine we have an immigrant, looking to relocate to Toronto for work. Whilst this particular immigrant has general idea of where he or she would like to live e.g east Toronto, s/he is unsure of an exact location. Could we possibly help such an immigrant by categorising all boroughs/neighborhoods in order of greatest to least amenities?"
   ]
  },
  {
   "cell_type": "markdown",
   "metadata": {},
   "source": [
    "# Data"
   ]
  },
  {
   "cell_type": "markdown",
   "metadata": {},
   "source": [
    "The Data Source to be used for this project will be Foursquare's location data."
   ]
  },
  {
   "cell_type": "code",
   "execution_count": null,
   "metadata": {},
   "outputs": [],
   "source": []
  }
 ],
 "metadata": {
  "kernelspec": {
   "display_name": "Python 3",
   "language": "python",
   "name": "python3"
  },
  "language_info": {
   "codemirror_mode": {
    "name": "ipython",
    "version": 3
   },
   "file_extension": ".py",
   "mimetype": "text/x-python",
   "name": "python",
   "nbconvert_exporter": "python",
   "pygments_lexer": "ipython3",
   "version": "3.6.4"
  }
 },
 "nbformat": 4,
 "nbformat_minor": 2
}
