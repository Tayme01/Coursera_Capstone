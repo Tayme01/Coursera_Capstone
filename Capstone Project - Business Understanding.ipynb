{
 "cells": [
  {
   "cell_type": "markdown",
   "metadata": {},
   "source": [
    "# Problem and Background"
   ]
  },
  {
   "cell_type": "markdown",
   "metadata": {},
   "source": [
    "Problem: How can I find out the a borough in toronto or neighbhorhood in new york that has the most of a particular amenity (e.g cinemas, coffee shops etc)?\n",
    "\n",
    "Background: Imagine we have an immigrant, looking to relocate to Toronto for work. Whilst this particular immigrant has general idea of where he or she would like to live e.g east Toronto, s/he is unsure of an exact location. Could we possibly help such an immigrant by categorising all boroughs/neighborhoods in order of greatest to least amenities?"
   ]
  },
  {
   "cell_type": "markdown",
   "metadata": {},
   "source": [
    "# Data"
   ]
  },
  {
   "cell_type": "markdown",
   "metadata": {},
   "source": [
    "The Data Source to be used for this project will be Foursquare's location data. Examples are provided below."
   ]
  },
  {
   "cell_type": "markdown",
   "metadata": {},
   "source": [
    "{\n",
    "  \"meta\": {\n",
    "    \"code\": 200,\n",
    "    \"requestId\": \"5ac51d7e6a607143d811cecb\"\n",
    "  },\n",
    "  \"response\": {\n",
    "    \"venues\": [\n",
    "      {\n",
    "        \"id\": \"5642aef9498e51025cf4a7a5\",\n",
    "        \"name\": \"Mr. Purple\",\n",
    "        \"location\": {\n",
    "          \"address\": \"180 Orchard St\",\n",
    "          \"crossStreet\": \"btwn Houston & Stanton St\",\n",
    "          \"lat\": 40.72173744277209,\n",
    "          \"lng\": -73.98800687282996,\n",
    "          \"labeledLatLngs\": [\n",
    "            {\n",
    "              \"label\": \"display\",\n",
    "              \"lat\": 40.72173744277209,\n",
    "              \"lng\": -73.98800687282996\n",
    "            }\n",
    "          ],\n",
    "          \"distance\": 8,\n",
    "          \"postalCode\": \"10002\",\n",
    "          \"cc\": \"US\",\n",
    "          \"city\": \"New York\",\n",
    "          \"state\": \"NY\",\n",
    "          \"country\": \"United States\",\n",
    "          \"formattedAddress\": [\n",
    "            \"180 Orchard St (btwn Houston & Stanton St)\",\n",
    "            \"New York, NY 10002\",\n",
    "            \"United States\"\n",
    "          ]\n",
    "        },\n",
    "        \"categories\": [\n",
    "          {\n",
    "            \"id\": \"4bf58dd8d48988d1d5941735\",\n",
    "            \"name\": \"Hotel Bar\",\n",
    "            \"pluralName\": \"Hotel Bars\",\n",
    "            \"shortName\": \"Hotel Bar\",\n",
    "            \"icon\": {\n",
    "              \"prefix\": \"https://ss3.4sqi.net/img/categories_v2/travel/hotel_bar_\",\n",
    "              \"suffix\": \".png\"\n",
    "            },\n",
    "            \"primary\": true\n",
    "          }\n",
    "        ],\n",
    "        \"venuePage\": {\n",
    "          \"id\": \"150747252\"\n",
    "        }\n",
    "      }\n",
    "    ]\n",
    "  }\n",
    "}"
   ]
  }
 ],
 "metadata": {
  "kernelspec": {
   "display_name": "Python 3",
   "language": "python",
   "name": "python3"
  },
  "language_info": {
   "codemirror_mode": {
    "name": "ipython",
    "version": 3
   },
   "file_extension": ".py",
   "mimetype": "text/x-python",
   "name": "python",
   "nbconvert_exporter": "python",
   "pygments_lexer": "ipython3",
   "version": "3.6.4"
  }
 },
 "nbformat": 4,
 "nbformat_minor": 2
}
